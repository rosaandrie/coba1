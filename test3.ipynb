{
  "nbformat": 4,
  "nbformat_minor": 0,
  "metadata": {
    "colab": {
      "name": "test2.ipynb",
      "provenance": [],
      "include_colab_link": true
    },
    "kernelspec": {
      "name": "python3",
      "display_name": "Python 3"
    }
  },
  "cells": [
    {
      "cell_type": "markdown",
      "metadata": {
        "id": "view-in-github",
        "colab_type": "text"
      },
      "source": [
        "<a href=\"https://colab.research.google.com/github/rosaandrie/coba1/blob/master/test3.ipynb\" target=\"_parent\"><img src=\"https://colab.research.google.com/assets/colab-badge.svg\" alt=\"Open In Colab\"/></a>"
      ]
    },
    {
      "cell_type": "code",
      "metadata": {
        "id": "YQHgreqWOEN-",
        "colab_type": "code",
        "outputId": "c4c57674-fe39-42a6-dd07-b41a2e08d556",
        "colab": {
          "base_uri": "https://localhost:8080/",
          "height": 965
        }
      },
      "source": [
        "import numpy as np\n",
        "import pandas as pd\n",
        "import matplotlib.pyplot as plt\n",
        "import scipy.stats as stats\n",
        "\n",
        "np.random.seed(12)\n",
        "\n",
        "suku =   [\"chinese\",\"melayu\",\"madura\",\"batak\",\"jawa\"]\n",
        "\n",
        "# Membuat data acak dengan probabilitas tetap\n",
        "voter_suku = np.random.choice(a= suku, p = [0.05, 0.15 ,0.25, 0.05, 0.5], size=1000)\n",
        "\n",
        "# Generate distribusi yang berbeda untuk usia suku jawa\n",
        "usia_jawa = stats.poisson.rvs(loc=18, mu=32, size=1000)\n",
        "\n",
        "voter_usia = stats.poisson.rvs(loc=18, mu=30, size=1000)\n",
        "\n",
        "voter_usia = np.where(voter_suku==\"jawa\", usia_jawa, voter_usia)\n",
        "\n",
        "# kelompok usia berdasarkan suku\n",
        "voter_frame = pd.DataFrame({\"suku\":voter_suku,\"usia\":voter_usia})\n",
        "groups = voter_frame.groupby(\"suku\").groups\n",
        "\n",
        "# Ekstrak kelompok individual\n",
        "jawa = voter_usia[groups[\"chinese\"]]\n",
        "melayu = voter_usia[groups[\"melayu\"]]\n",
        "madura = voter_usia[groups[\"madura\"]]\n",
        "batak = voter_usia[groups[\"batak\"]]\n",
        "chinese = voter_usia[groups[\"jawa\"]]\n",
        "\n",
        "# melakukan test ANOVA one-way\n",
        "stats.f_oneway(chinese, melayu, madura, batak, jawa)\n",
        "\n",
        "pasangan_suku = []\n",
        "\n",
        "for suku1 in range(4):\n",
        "    for suku2  in range(suku1+1,5):\n",
        "        pasangan_suku.append((suku[suku1], suku[suku2]))\n",
        "\n",
        "# Hitung t-test untuk tiap pasangan\n",
        "for suku1, suku2 in suku_pairs: \n",
        "    print(suku1, suku2)\n",
        "    print(stats.ttest_ind(voter_usia[groups[suku1]], \n",
        "                          voter_usia[groups[suku2]]))\n",
        "\n",
        "from statsmodels.stats.multicomp import pairwise_tukeyhsd\n",
        "\n",
        "tukey = pairwise_tukeyhsd(endog=voter_usia,     # Data\n",
        "                          groups=voter_suku,   # Kelompok\n",
        "                          alpha=0.05)          # Level Signifikan\n",
        "\n",
        "tukey.plot_simultaneous()    # Plot kelompok confidence intervals\n",
        "plt.vlines(x=49.57,ymin=-0.5,ymax=4.5, color=\"red\")\n",
        "\n",
        "tukey.summary()              # melihat hasil test"
      ],
      "execution_count": 7,
      "outputs": [
        {
          "output_type": "stream",
          "text": [
            "chinese melayu\n",
            "Ttest_indResult(statistic=0.838644690974798, pvalue=0.4027281369339345)\n",
            "chinese madura\n",
            "Ttest_indResult(statistic=-0.42594691924932293, pvalue=0.6704669004240726)\n",
            "chinese batak\n",
            "Ttest_indResult(statistic=0.9795284739636, pvalue=0.3298877500095151)\n",
            "chinese jawa\n",
            "Ttest_indResult(statistic=-2.318108811252288, pvalue=0.020804701566400217)\n",
            "melayu madura\n",
            "Ttest_indResult(statistic=-1.9527839210712925, pvalue=0.05156197171952594)\n",
            "melayu batak\n",
            "Ttest_indResult(statistic=0.28025754367057176, pvalue=0.7795770111117659)\n",
            "melayu jawa\n",
            "Ttest_indResult(statistic=-5.379303881281835, pvalue=1.039421216662395e-07)\n",
            "madura batak\n",
            "Ttest_indResult(statistic=1.5853626170340225, pvalue=0.11396630528484335)\n",
            "madura jawa\n",
            "Ttest_indResult(statistic=-3.5160312714115376, pvalue=0.0004641298649066684)\n",
            "batak jawa\n",
            "Ttest_indResult(statistic=-3.763809322077872, pvalue=0.00018490576317593065)\n"
          ],
          "name": "stdout"
        },
        {
          "output_type": "execute_result",
          "data": {
            "text/html": [
              "<table class=\"simpletable\">\n",
              "<caption>Multiple Comparison of Means - Tukey HSD, FWER=0.05</caption>\n",
              "<tr>\n",
              "  <th>group1</th>  <th>group2</th>  <th>meandiff</th>  <th>p-adj</th>  <th>lower</th>   <th>upper</th>  <th>reject</th>\n",
              "</tr>\n",
              "<tr>\n",
              "   <td>batak</td>  <td>chinese</td>  <td>1.0645</td>  <td>0.8852</td>  <td>-2.11</td>  <td>4.2391</td>   <td>False</td>\n",
              "</tr>\n",
              "<tr>\n",
              "   <td>batak</td>   <td>jawa</td>    <td>3.0192</td>  <td>0.0028</td> <td>0.7443</td>  <td>5.2941</td>   <td>True</td> \n",
              "</tr>\n",
              "<tr>\n",
              "   <td>batak</td>  <td>madura</td>   <td>1.4789</td>  <td>0.4391</td> <td>-0.9053</td>  <td>3.863</td>   <td>False</td>\n",
              "</tr>\n",
              "<tr>\n",
              "   <td>batak</td>  <td>melayu</td>   <td>0.2614</td>    <td>0.9</td>  <td>-2.253</td>  <td>2.7757</td>   <td>False</td>\n",
              "</tr>\n",
              "<tr>\n",
              "  <td>chinese</td>  <td>jawa</td>    <td>1.9547</td>   <td>0.175</td> <td>-0.4575</td> <td>4.3668</td>   <td>False</td>\n",
              "</tr>\n",
              "<tr>\n",
              "  <td>chinese</td> <td>madura</td>   <td>0.4143</td>    <td>0.9</td>  <td>-2.1011</td> <td>2.9297</td>   <td>False</td>\n",
              "</tr>\n",
              "<tr>\n",
              "  <td>chinese</td> <td>melayu</td>   <td>-0.8032</td>   <td>0.9</td>  <td>-3.4423</td>  <td>1.836</td>   <td>False</td>\n",
              "</tr>\n",
              "<tr>\n",
              "   <td>jawa</td>   <td>madura</td>   <td>-1.5404</td>  <td>0.004</td> <td>-2.734</td>  <td>-0.3468</td>  <td>True</td> \n",
              "</tr>\n",
              "<tr>\n",
              "   <td>jawa</td>   <td>melayu</td>   <td>-2.7579</td>  <td>0.001</td> <td>-4.194</td>  <td>-1.3217</td>  <td>True</td> \n",
              "</tr>\n",
              "<tr>\n",
              "  <td>madura</td>  <td>melayu</td>   <td>-1.2175</td> <td>0.2318</td> <td>-2.821</td>   <td>0.386</td>   <td>False</td>\n",
              "</tr>\n",
              "</table>"
            ],
            "text/plain": [
              "<class 'statsmodels.iolib.table.SimpleTable'>"
            ]
          },
          "metadata": {
            "tags": []
          },
          "execution_count": 7
        },
        {
          "output_type": "display_data",
          "data": {
            "image/png": "[encoded data removed]",
            "text/plain": [
              "<Figure size 720x432 with 1 Axes>"
            ]
          },
          "metadata": {
            "tags": []
          }
        }
      ]
    }
  ]
}