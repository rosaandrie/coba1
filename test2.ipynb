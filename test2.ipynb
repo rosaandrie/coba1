{
  "nbformat": 4,
  "nbformat_minor": 0,
  "metadata": {
    "colab": {
      "name": "test2.ipynb",
      "provenance": [],
      "authorship_tag": "ABX9TyNYrnIDXjMOkW02y0P0qpd8",
      "include_colab_link": true
    },
    "kernelspec": {
      "name": "python3",
      "display_name": "Python 3"
    }
  },
  "cells": [
    {
      "cell_type": "markdown",
      "metadata": {
        "id": "view-in-github",
        "colab_type": "text"
      },
      "source": [
        "<a href=\"https://colab.research.google.com/github/rosaandrie/coba1/blob/master/test2.ipynb\" target=\"_parent\"><img src=\"https://colab.research.google.com/assets/colab-badge.svg\" alt=\"Open In Colab\"/></a>"
      ]
    },
    {
      "cell_type": "code",
      "metadata": {
        "id": "YQHgreqWOEN-",
        "colab_type": "code",
        "outputId": "dc069c59-883d-4ac8-e3ae-e31bb43236cb",
        "colab": {
          "base_uri": "https://localhost:8080/",
          "height": 34
        }
      },
      "source": [
        "import sys\n",
        "#print(\"Python version: {}\". format(sys.version))\n",
        "import pandas as pd\n",
        "#print(\"pandas version: {}\". format(pd.__version__))\n",
        "import matplotlib #collection of functions for scientific and publication-ready visualization\n",
        "#print(\"matplotlib version: {}\". format(matplotlib.__version__))\n",
        "import numpy as np #foundational package for scientific computing\n",
        "#print(\"NumPy version: {}\". format(np.__version__))\n",
        "import scipy as sp #collection of functions for scientific computing and advance mathematics\n",
        "#print(\"SciPy version: {}\". format(sp.__version__))\n",
        "import IPython\n",
        "from IPython import display #pretty printing of dataframes in Jupyter notebook\n",
        "#print(\"IPython version: {}\". format(IPython.__version__)) \n",
        "import sklearn #collection of machine learning algorithms\n",
        "#print(\"scikit-learn version: {}\". format(sklearn.__version__))\n",
        "\n",
        "#misc libraries\n",
        "import random\n",
        "import time\n",
        "\n",
        "#ignore warnings\n",
        "import warnings\n",
        "warnings.filterwarnings('ignore')\n",
        "print('-'*25)"
      ],
      "execution_count": 8,
      "outputs": [
        {
          "output_type": "stream",
          "text": [
            "-------------------------\n"
          ],
          "name": "stdout"
        }
      ]
    }
  ]
}