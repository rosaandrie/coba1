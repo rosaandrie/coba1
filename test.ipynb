x = 3
y = 6
display(x+y)
